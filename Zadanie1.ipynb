{
 "cells": [
  {
   "cell_type": "markdown",
   "id": "5ff540d9-a698-4e41-a424-520de154f40c",
   "metadata": {},
   "source": [
    "Łukasz Księżarczyk Informatyka"
   ]
  },
  {
   "cell_type": "code",
   "execution_count": 1,
   "id": "5aad39cd-fab1-4053-870d-af4aef80f9f7",
   "metadata": {},
   "outputs": [
    {
     "name": "stdout",
     "output_type": "stream",
     "text": [
      "Hello, Data Science!\n"
     ]
    }
   ],
   "source": [
    "print(\"Hello, Data Science!\") "
   ]
  }
 ],
 "metadata": {
  "kernelspec": {
   "display_name": "Python 3 (ipykernel)",
   "language": "python",
   "name": "python3"
  },
  "language_info": {
   "codemirror_mode": {
    "name": "ipython",
    "version": 3
   },
   "file_extension": ".py",
   "mimetype": "text/x-python",
   "name": "python",
   "nbconvert_exporter": "python",
   "pygments_lexer": "ipython3",
   "version": "3.13.5"
  }
 },
 "nbformat": 4,
 "nbformat_minor": 5
}
