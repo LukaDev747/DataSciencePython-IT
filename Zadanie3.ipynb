{
 "cells": [
  {
   "cell_type": "code",
   "execution_count": 1,
   "id": "2b95b6f4-4abb-4afd-8cd3-b9538ff022b8",
   "metadata": {},
   "outputs": [
    {
     "name": "stdout",
     "output_type": "stream",
     "text": [
      "liczba jest nieprzysta\n"
     ]
    }
   ],
   "source": [
    "liczba = 17 \n",
    "\n",
    "if liczba % 2 == 0 : \n",
    "\n",
    "    print(\"Liczba jest parzysta\") \n",
    "\n",
    "elif liczba % 2 == 1: \n",
    "\n",
    "    print(\"liczba jest nieprzysta\") \n",
    "\n",
    "else: \n",
    "\n",
    "    print(\"Liczba to 0\") "
   ]
  },
  {
   "cell_type": "code",
   "execution_count": 4,
   "id": "ba88016e-4fd3-4edd-9e0f-0d4b14f043e9",
   "metadata": {},
   "outputs": [
    {
     "name": "stdout",
     "output_type": "stream",
     "text": [
      "0\n",
      "1\n",
      "2\n",
      "3\n",
      "4\n",
      "5\n",
      "6\n",
      "7\n",
      "8\n",
      "9\n",
      "10\n"
     ]
    }
   ],
   "source": [
    "for i in range(11):\n",
    "    print(i)"
   ]
  },
  {
   "cell_type": "code",
   "execution_count": 10,
   "id": "2bb46f5c-84cb-4f75-a0a0-2cbd643e077f",
   "metadata": {},
   "outputs": [
    {
     "name": "stdout",
     "output_type": "stream",
     "text": [
      "1\n",
      "2\n",
      "3\n",
      "4\n",
      "5\n"
     ]
    }
   ],
   "source": [
    "i = 1\n",
    "while i < 6:\n",
    "    print(i)\n",
    "    i += 1"
   ]
  },
  {
   "cell_type": "code",
   "execution_count": null,
   "id": "60feb2bc-b8a5-46d1-8558-c391d8ee5de1",
   "metadata": {},
   "outputs": [],
   "source": []
  }
 ],
 "metadata": {
  "kernelspec": {
   "display_name": "Python 3 (ipykernel)",
   "language": "python",
   "name": "python3"
  },
  "language_info": {
   "codemirror_mode": {
    "name": "ipython",
    "version": 3
   },
   "file_extension": ".py",
   "mimetype": "text/x-python",
   "name": "python",
   "nbconvert_exporter": "python",
   "pygments_lexer": "ipython3",
   "version": "3.13.5"
  }
 },
 "nbformat": 4,
 "nbformat_minor": 5
}
