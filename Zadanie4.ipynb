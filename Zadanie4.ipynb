{
 "cells": [
  {
   "cell_type": "code",
   "execution_count": 12,
   "id": "36f84441-2f0d-4da2-b618-fa91e2541799",
   "metadata": {},
   "outputs": [
    {
     "name": "stdout",
     "output_type": "stream",
     "text": [
      "['jabłko', 'banan', 'malina', 'nowyElement']\n",
      "banan\n",
      "18.0\n"
     ]
    }
   ],
   "source": [
    "fruits = [\"jabłko\",\"banan\",\"malina\"]\n",
    "person = {\"name\":\"Ala\",\"age\":22}\n",
    "numbers = {1,2,3,3}\n",
    "\n",
    "fruits.append(\"nowyElement\")\n",
    "print(fruits)\n",
    "\n",
    "print(fruits[1])\n",
    "\n",
    "srednia = (lista[0] + lista[1] + lista[2] + lista[3] + lista[4] + lista[5]) / 6\n",
    "print(srednia)\n",
    "\n",
    "\n"
   ]
  },
  {
   "cell_type": "code",
   "execution_count": 16,
   "id": "33252e83-2605-475f-ae21-8d0bd40872ed",
   "metadata": {},
   "outputs": [
    {
     "name": "stdout",
     "output_type": "stream",
     "text": [
      "banan\n"
     ]
    }
   ],
   "source": [
    "fruits = [\"jabłko\",\"banan\",\"malina\"]\n",
    "person = {\"name\":\"Ala\",\"age\":22}\n",
    "numbers = {1,2,3,3}\n",
    "\n",
    "print(fruits[1])"
   ]
  },
  {
   "cell_type": "code",
   "execution_count": 13,
   "id": "fcfc38b6-ee96-49f2-9631-15a6476125b2",
   "metadata": {},
   "outputs": [
    {
     "name": "stdout",
     "output_type": "stream",
     "text": [
      "18.0\n"
     ]
    }
   ],
   "source": [
    "fruits = [\"jabłko\",\"banan\",\"malina\"]\n",
    "person = {\"name\":\"Ala\",\"age\":22}\n",
    "numbers = {1,2,3,3}\n",
    "\n",
    "srednia = (lista[0] + lista[1] + lista[2] + lista[3] + lista[4] + lista[5]) / 6\n",
    "print(srednia)"
   ]
  },
  {
   "cell_type": "code",
   "execution_count": 15,
   "id": "59680532-b1a2-4499-9342-815069c11f27",
   "metadata": {},
   "outputs": [
    {
     "name": "stdout",
     "output_type": "stream",
     "text": [
      "name Ala\n",
      "age 22\n"
     ]
    }
   ],
   "source": [
    "fruits = [\"jabłko\",\"banan\",\"malina\"]\n",
    "person = {\"name\":\"Ala\",\"age\":22}\n",
    "numbers = {1,2,3,3}\n",
    "\n",
    "for key,value in dict.items(person):\n",
    "    print(key , value )"
   ]
  },
  {
   "cell_type": "code",
   "execution_count": null,
   "id": "b9f1e1ae-119e-467e-92a0-2c468f3f717b",
   "metadata": {},
   "outputs": [],
   "source": []
  }
 ],
 "metadata": {
  "kernelspec": {
   "display_name": "Python 3 (ipykernel)",
   "language": "python",
   "name": "python3"
  },
  "language_info": {
   "codemirror_mode": {
    "name": "ipython",
    "version": 3
   },
   "file_extension": ".py",
   "mimetype": "text/x-python",
   "name": "python",
   "nbconvert_exporter": "python",
   "pygments_lexer": "ipython3",
   "version": "3.13.5"
  }
 },
 "nbformat": 4,
 "nbformat_minor": 5
}
