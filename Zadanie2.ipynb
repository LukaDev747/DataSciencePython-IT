{
 "cells": [
  {
   "cell_type": "code",
   "execution_count": 20,
   "id": "f382c38f-f500-440c-8625-78858aaff6f7",
   "metadata": {},
   "outputs": [
    {
     "name": "stdout",
     "output_type": "stream",
     "text": [
      "<class 'int'>\n",
      "<class 'float'>\n",
      "<class 'str'>\n",
      "<class 'bool'>\n",
      "8.5\n",
      "1.4285714285714286\n",
      "279.5084971874737\n",
      "Wartość a to 5, b to 3.5\n"
     ]
    }
   ],
   "source": [
    "a = 5\n",
    "b = 3.5\n",
    "c = \"Python\"\n",
    "d = True\n",
    "\n",
    "print(type(a))\n",
    "print(type(b))\n",
    "print(type(c))\n",
    "print(type(d))\n",
    "\n",
    "print(a + b)\n",
    "print(a / b)\n",
    "print(a ** b)\n",
    "\n",
    "print(f\"Wartość a to {a}, b to {b}\") \n"
   ]
  },
  {
   "cell_type": "code",
   "execution_count": 21,
   "id": "05e61bdb-21e0-4468-a6ec-50d1f62276a9",
   "metadata": {},
   "outputs": [
    {
     "name": "stdout",
     "output_type": "stream",
     "text": [
      "8.5\n",
      "1.4285714285714286\n",
      "279.5084971874737\n"
     ]
    }
   ],
   "source": [
    "a = 5\n",
    "b = 3.5\n",
    "c = \"Python\"\n",
    "d = True\n",
    "\n",
    "print(a + b)\n",
    "print(a / b)\n",
    "print(a ** b)"
   ]
  },
  {
   "cell_type": "code",
   "execution_count": 22,
   "id": "8fe0ab28-4abc-4dd4-8053-5f7553324dcb",
   "metadata": {},
   "outputs": [
    {
     "name": "stdout",
     "output_type": "stream",
     "text": [
      "Wartość a to 5, b to 3.5\n"
     ]
    }
   ],
   "source": [
    "a = 5\n",
    "b = 3.5\n",
    "c = \"Python\"\n",
    "d = True\n",
    "\n",
    "print(f\"Wartość a to {a}, b to {b}\") "
   ]
  },
  {
   "cell_type": "code",
   "execution_count": null,
   "id": "015bc93e-4071-444a-8c95-741e84698f89",
   "metadata": {},
   "outputs": [],
   "source": []
  }
 ],
 "metadata": {
  "kernelspec": {
   "display_name": "Python 3 (ipykernel)",
   "language": "python",
   "name": "python3"
  },
  "language_info": {
   "codemirror_mode": {
    "name": "ipython",
    "version": 3
   },
   "file_extension": ".py",
   "mimetype": "text/x-python",
   "name": "python",
   "nbconvert_exporter": "python",
   "pygments_lexer": "ipython3",
   "version": "3.13.5"
  }
 },
 "nbformat": 4,
 "nbformat_minor": 5
}
