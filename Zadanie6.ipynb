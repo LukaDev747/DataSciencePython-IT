{
 "cells": [
  {
   "cell_type": "code",
   "execution_count": 5,
   "id": "04bc98df-1331-4734-9d0f-4fb46b2ad8b9",
   "metadata": {},
   "outputs": [
    {
     "data": {
      "text/html": [
       "<div>\n",
       "<style scoped>\n",
       "    .dataframe tbody tr th:only-of-type {\n",
       "        vertical-align: middle;\n",
       "    }\n",
       "\n",
       "    .dataframe tbody tr th {\n",
       "        vertical-align: top;\n",
       "    }\n",
       "\n",
       "    .dataframe thead th {\n",
       "        text-align: right;\n",
       "    }\n",
       "</style>\n",
       "<table border=\"1\" class=\"dataframe\">\n",
       "  <thead>\n",
       "    <tr style=\"text-align: right;\">\n",
       "      <th></th>\n",
       "      <th>Imię</th>\n",
       "      <th>Wiek</th>\n",
       "      <th>Ocena</th>\n",
       "      <th>Rok_Studiow</th>\n",
       "    </tr>\n",
       "  </thead>\n",
       "  <tbody>\n",
       "    <tr>\n",
       "      <th>0</th>\n",
       "      <td>Ala</td>\n",
       "      <td>22</td>\n",
       "      <td>4.5</td>\n",
       "      <td>2</td>\n",
       "    </tr>\n",
       "    <tr>\n",
       "      <th>1</th>\n",
       "      <td>Bartek</td>\n",
       "      <td>25</td>\n",
       "      <td>3.8</td>\n",
       "      <td>3</td>\n",
       "    </tr>\n",
       "    <tr>\n",
       "      <th>2</th>\n",
       "      <td>Celina</td>\n",
       "      <td>20</td>\n",
       "      <td>5.0</td>\n",
       "      <td>1</td>\n",
       "    </tr>\n",
       "  </tbody>\n",
       "</table>\n",
       "</div>"
      ],
      "text/plain": [
       "     Imię  Wiek  Ocena  Rok_Studiow\n",
       "0     Ala    22    4.5            2\n",
       "1  Bartek    25    3.8            3\n",
       "2  Celina    20    5.0            1"
      ]
     },
     "metadata": {},
     "output_type": "display_data"
    },
    {
     "name": "stdout",
     "output_type": "stream",
     "text": [
      "            Wiek     Ocena  Rok_Studiow\n",
      "count   3.000000  3.000000          3.0\n",
      "mean   22.333333  4.433333          2.0\n",
      "std     2.516611  0.602771          1.0\n",
      "min    20.000000  3.800000          1.0\n",
      "25%    21.000000  4.150000          1.5\n",
      "50%    22.000000  4.500000          2.0\n",
      "75%    23.500000  4.750000          2.5\n",
      "max    25.000000  5.000000          3.0\n"
     ]
    }
   ],
   "source": [
    "import numpy as np \n",
    "import pandas as pd \n",
    "\n",
    "data = { \n",
    "\n",
    "    \"Imię\": [\"Ala\", \"Bartek\", \"Celina\"], \n",
    "\n",
    "    \"Wiek\": [22, 25, 20], \n",
    "\n",
    "    \"Ocena\": [4.5, 3.8, 5.0],\n",
    "\n",
    "    \"Rok_Studiow\": [2, 3, 1]\n",
    "\n",
    "} \n",
    "\n",
    "df = pd.DataFrame(data) \n",
    "\n",
    "display(df) \n",
    "\n",
    "print(df.describe())"
   ]
  },
  {
   "cell_type": "code",
   "execution_count": 9,
   "id": "2a0cb898-56f2-4e29-9fc4-917536d9a6d6",
   "metadata": {},
   "outputs": [
    {
     "name": "stdout",
     "output_type": "stream",
     "text": [
      "Średnia z ocen: 4.433333333333334\n"
     ]
    }
   ],
   "source": [
    "import numpy as np \n",
    "import pandas as pd \n",
    "\n",
    "data = { \n",
    "\n",
    "    \"Imię\": [\"Ala\", \"Bartek\", \"Celina\"], \n",
    "\n",
    "    \"Wiek\": [22, 25, 20], \n",
    "\n",
    "    \"Ocena\": [4.5, 3.8, 5.0],\n",
    "\n",
    "    \"Rok_Studiow\": [2, 3, 1]\n",
    "\n",
    "} \n",
    "\n",
    "srednia_ocena = df[\"Ocena\"].mean()\n",
    "\n",
    "print(f\"Średnia z ocen: {srednia_ocena}\")\n",
    "\n"
   ]
  },
  {
   "cell_type": "code",
   "execution_count": 12,
   "id": "4b8ff795-3bc2-4a0e-8f5c-6a0e4fccdba4",
   "metadata": {},
   "outputs": [
    {
     "name": "stdout",
     "output_type": "stream",
     "text": [
      "     Imię  Wiek  Ocena  Rok_Studiow\n",
      "0     Ala    22    4.5            2\n",
      "2  Celina    20    5.0            1\n"
     ]
    }
   ],
   "source": [
    "import numpy as np \n",
    "import pandas as pd \n",
    "\n",
    "data = { \n",
    "\n",
    "    \"Imię\": [\"Ala\", \"Bartek\", \"Celina\"], \n",
    "\n",
    "    \"Wiek\": [22, 25, 20], \n",
    "\n",
    "    \"Ocena\": [4.5, 3.8, 5.0],\n",
    "\n",
    "    \"Rok_Studiow\": [2, 3, 1]\n",
    "\n",
    "}\n",
    "\n",
    "wieksze_od_4 = df[df[\"Ocena\"] > 4]\n",
    "\n",
    "print(wieksze_od_4)"
   ]
  },
  {
   "cell_type": "code",
   "execution_count": null,
   "id": "55becce9-3eb1-4be0-b0a9-1c0761ff8bed",
   "metadata": {},
   "outputs": [],
   "source": []
  }
 ],
 "metadata": {
  "kernelspec": {
   "display_name": "Python 3 (ipykernel)",
   "language": "python",
   "name": "python3"
  },
  "language_info": {
   "codemirror_mode": {
    "name": "ipython",
    "version": 3
   },
   "file_extension": ".py",
   "mimetype": "text/x-python",
   "name": "python",
   "nbconvert_exporter": "python",
   "pygments_lexer": "ipython3",
   "version": "3.13.5"
  }
 },
 "nbformat": 4,
 "nbformat_minor": 5
}
